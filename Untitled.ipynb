{
 "cells": [
  {
   "cell_type": "code",
   "execution_count": null,
   "id": "34317b43-41a1-403f-b410-af631d7e6e74",
   "metadata": {},
   "outputs": [],
   "source": [
    "# streamlit_app.py\n",
    "import streamlit as st\n",
    "import pandas as pd\n",
    "import plotly.express as px\n",
    "\n",
    "st.set_page_config(page_title=\"Walmart Sales Dashboard\", layout=\"wide\")\n",
    "\n",
    "st.title(\"📊 Walmart Sales Dashboard\")\n",
    "\n",
    "# Load data\n",
    "@st.cache_data\n",
    "def load_data():\n",
    "    return pd.read_csv(\"Walmart_Cleaned_Advanced3_Modified.csv\")\n",
    "\n",
    "df = load_data()\n",
    "\n",
    "# Top-selling products by quantity\n",
    "top_qty = df.groupby('product_name')['quantity_sold'].sum().nlargest(5).reset_index()\n",
    "fig1 = px.bar(top_qty, x='product_name', y='quantity_sold', title='Top Products by Quantity')\n",
    "\n",
    "# Top-selling products by revenue\n",
    "top_rev = df.groupby('product_name')['total_sales'].sum().nlargest(5).reset_index()\n",
    "fig2 = px.bar(top_rev, x='product_name', y='total_sales', title='Top Products by Revenue')\n",
    "\n",
    "# Monthly sales trend\n",
    "monthly_sales = df.groupby('transaction_month')['total_sales'].sum().reset_index()\n",
    "fig3 = px.line(monthly_sales, x='transaction_month', y='total_sales', title='Monthly Sales Trend')\n",
    "\n",
    "# Layout\n",
    "st.plotly_chart(fig1, use_container_width=True)\n",
    "st.plotly_chart(fig2, use_container_width=True)\n",
    "st.plotly_chart(fig3, use_container_width=True)\n"
   ]
  }
 ],
 "metadata": {
  "kernelspec": {
   "display_name": "Python 3 (ipykernel)",
   "language": "python",
   "name": "python3"
  },
  "language_info": {
   "codemirror_mode": {
    "name": "ipython",
    "version": 3
   },
   "file_extension": ".py",
   "mimetype": "text/x-python",
   "name": "python",
   "nbconvert_exporter": "python",
   "pygments_lexer": "ipython3",
   "version": "3.12.7"
  }
 },
 "nbformat": 4,
 "nbformat_minor": 5
}
