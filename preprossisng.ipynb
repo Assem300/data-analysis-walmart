{
 "cells": [
  {
   "cell_type": "code",
   "execution_count": 1,
   "id": "d05f231a-3e9b-41fe-93d2-087765e0a455",
   "metadata": {},
   "outputs": [],
   "source": [
    "import pandas as pd  \n",
    "import numpy as np \n",
    "import matplotlib.pyplot as plt \n",
    "import seaborn as sns  \n",
    "import datetime  "
   ]
  },
  {
   "cell_type": "markdown",
   "id": "e43e1aac-e7a4-42c1-b530-d1e48df5ef93",
   "metadata": {},
   "source": [
    "# Load the dataset"
   ]
  },
  {
   "cell_type": "code",
   "execution_count": 2,
   "id": "c663d652-0c3f-476e-8d0f-cee465d3e14a",
   "metadata": {},
   "outputs": [],
   "source": [
    "file_path = \"Walmart.csv\"\n",
    "df = pd.read_csv(file_path)"
   ]
  },
  {
   "cell_type": "markdown",
   "id": "5a16a25c-f565-481c-920e-aaea090e6aac",
   "metadata": {},
   "source": [
    "# Convert transaction_date to datetime format"
   ]
  },
  {
   "cell_type": "code",
   "execution_count": 3,
   "id": "86365e18-08ff-4465-b4c2-66ead1fa7c52",
   "metadata": {},
   "outputs": [],
   "source": [
    "df[\"transaction_date\"] = pd.to_datetime(df[\"transaction_date\"], errors='coerce')"
   ]
  },
  {
   "cell_type": "markdown",
   "id": "3f999380-a48e-4648-9529-d27f870d1c0f",
   "metadata": {},
   "source": [
    "# Extract features from transaction_date"
   ]
  },
  {
   "cell_type": "code",
   "execution_count": 4,
   "id": "7c0fe7ef-db48-4be6-af39-1898e123dcbe",
   "metadata": {},
   "outputs": [],
   "source": [
    "\n",
    "df[\"transaction_year\"] = df[\"transaction_date\"].dt.year\n",
    "df[\"transaction_month\"] = df[\"transaction_date\"].dt.month\n",
    "df[\"transaction_day\"] = df[\"transaction_date\"].dt.day\n",
    "df[\"transaction_hour\"] = df[\"transaction_date\"].dt.hour"
   ]
  },
  {
   "cell_type": "markdown",
   "id": "3bf68bb2-e511-4423-99bd-abdb4bf93c2c",
   "metadata": {},
   "source": [
    "# Drop original date column if not needed"
   ]
  },
  {
   "cell_type": "code",
   "execution_count": 5,
   "id": "7bcbafdf-8fa6-4ffb-a367-52b7d22491f4",
   "metadata": {},
   "outputs": [],
   "source": [
    "df.drop(columns=[\"transaction_date\"], inplace=True)"
   ]
  },
  {
   "cell_type": "markdown",
   "id": "0d9bacbd-3163-41ce-bcb0-f9379531c2f3",
   "metadata": {},
   "source": [
    "# Compute total sales revenue"
   ]
  },
  {
   "cell_type": "code",
   "execution_count": 6,
   "id": "9bb9a6df-f909-491e-aeef-4b3c4958e367",
   "metadata": {},
   "outputs": [],
   "source": [
    "df[\"total_sales\"] = df[\"quantity_sold\"] * df[\"unit_price\"]"
   ]
  },
  {
   "cell_type": "markdown",
   "id": "6cf62a80-5573-465e-bf6d-36efc4b7412d",
   "metadata": {},
   "source": [
    "# Handle missing values by filling with appropriate strategies"
   ]
  },
  {
   "cell_type": "code",
   "execution_count": 7,
   "id": "c2aa5d25-1058-4575-9503-68902cd2f44d",
   "metadata": {},
   "outputs": [],
   "source": [
    "\n",
    "df.fillna({\n",
    "    \"unit_price\": df[\"unit_price\"].median(),\n",
    "    \"total_sales\": 0,\n",
    "    \"forecasted_demand\": df[\"forecasted_demand\"].median(),\n",
    "    \"actual_demand\": df[\"actual_demand\"].median()\n",
    "}, inplace=True)"
   ]
  },
  {
   "cell_type": "markdown",
   "id": "3a165021-2b0a-4edf-8186-8fd805df3754",
   "metadata": {},
   "source": [
    "# Convert boolean columns to integers (0/1)"
   ]
  },
  {
   "cell_type": "code",
   "execution_count": 8,
   "id": "f795cca9-40d8-481f-9da5-e570b64bb936",
   "metadata": {},
   "outputs": [],
   "source": [
    "\n",
    "bool_cols = [\"promotion_applied\", \"holiday_indicator\", \"stockout_indicator\"]\n",
    "df[bool_cols] = df[bool_cols].astype(int)"
   ]
  },
  {
   "cell_type": "markdown",
   "id": "c814b70a-f8fd-4318-af7e-29bb5b907719",
   "metadata": {},
   "source": [
    "# Remove duplicates"
   ]
  },
  {
   "cell_type": "code",
   "execution_count": 9,
   "id": "9dcb7bd9-881b-48d3-9d19-dfe6e0af1d5a",
   "metadata": {},
   "outputs": [],
   "source": [
    "\n",
    "df.drop_duplicates(inplace=True)\n"
   ]
  },
  {
   "cell_type": "markdown",
   "id": "29355904-5d6c-407e-b6d3-3309382a1a11",
   "metadata": {},
   "source": [
    "# Outlier detection and removal using Z-score"
   ]
  },
  {
   "cell_type": "code",
   "execution_count": 10,
   "id": "c40b150e-4854-4037-9f56-3d81362264c3",
   "metadata": {},
   "outputs": [],
   "source": [
    "def remove_outliers(df, column, threshold=3):\n",
    "    z_scores = np.abs((df[column] - df[column].mean()) / df[column].std())\n",
    "    return df[z_scores < threshold]\n"
   ]
  },
  {
   "cell_type": "markdown",
   "id": "dc2046d0-23e7-40be-bf3e-9b8b4a775bde",
   "metadata": {},
   "source": [
    "# Apply outlier removal to key numerical columns"
   ]
  },
  {
   "cell_type": "code",
   "execution_count": 11,
   "id": "25ae7acb-95a9-4ea2-b47f-6f6dbc6bac7d",
   "metadata": {},
   "outputs": [],
   "source": [
    "\n",
    "df = remove_outliers(df, \"total_sales\")\n",
    "df = remove_outliers(df, \"unit_price\")\n"
   ]
  },
  {
   "cell_type": "markdown",
   "id": "e01105da-7cbb-453d-99b8-2fd445d4450d",
   "metadata": {},
   "source": [
    "# Normalize numerical features"
   ]
  },
  {
   "cell_type": "code",
   "execution_count": 12,
   "id": "75bbde96-0538-4c30-a32d-d8d516eafb62",
   "metadata": {},
   "outputs": [],
   "source": [
    "\n",
    "num_cols = [\"unit_price\", \"quantity_sold\", \"total_sales\", \"forecasted_demand\", \"actual_demand\"]\n",
    "df[num_cols] = (df[num_cols] - df[num_cols].min()) / (df[num_cols].max() - df[num_cols].min())\n"
   ]
  },
  {
   "cell_type": "code",
   "execution_count": 13,
   "id": "91b36518-030a-4f12-a98d-dec5b6c01923",
   "metadata": {},
   "outputs": [
    {
     "data": {
      "text/plain": [
       "0                       NaN\n",
       "1       Percentage Discount\n",
       "2                       NaN\n",
       "3       Percentage Discount\n",
       "4                       NaN\n",
       "               ...         \n",
       "4995                    NaN\n",
       "4996                    NaN\n",
       "4997                    NaN\n",
       "4998                    NaN\n",
       "4999                   BOGO\n",
       "Name: promotion_type, Length: 5000, dtype: object"
      ]
     },
     "execution_count": 13,
     "metadata": {},
     "output_type": "execute_result"
    }
   ],
   "source": [
    "df['promotion_type']"
   ]
  },
  {
   "cell_type": "code",
   "execution_count": 14,
   "id": "19d1a2f0-b7da-4b17-b8a1-0f3bb8cb9a6e",
   "metadata": {},
   "outputs": [],
   "source": [
    "df['promotion_type'].fillna(\"No Promotion\", inplace=True)"
   ]
  },
  {
   "cell_type": "code",
   "execution_count": 15,
   "id": "de6c9b90-66c8-4d70-adc1-778958f12905",
   "metadata": {},
   "outputs": [
    {
     "name": "stdout",
     "output_type": "stream",
     "text": [
      "['No Promotion' 'Percentage Discount' 'BOGO']\n"
     ]
    }
   ],
   "source": [
    "print(df['promotion_type'].unique())"
   ]
  },
  {
   "cell_type": "code",
   "execution_count": 16,
   "id": "e7dfb4d8-674b-4ecd-95e6-e0f776d2f05c",
   "metadata": {},
   "outputs": [
    {
     "name": "stdout",
     "output_type": "stream",
     "text": [
      "       transaction_id  customer_id   product_id  quantity_sold   unit_price  \\\n",
      "count     5000.000000  5000.000000  5000.000000    5000.000000  5000.000000   \n",
      "mean      2500.500000  5542.497200   551.233400       0.495700     0.499227   \n",
      "std       1443.520003  2582.126997   258.826606       0.354869     0.287018   \n",
      "min          1.000000  1001.000000   100.000000       0.000000     0.000000   \n",
      "25%       1250.750000  3279.000000   322.000000       0.250000     0.250122   \n",
      "50%       2500.500000  5558.000000   559.000000       0.500000     0.502154   \n",
      "75%       3750.250000  7767.250000   776.000000       0.750000     0.746869   \n",
      "max       5000.000000  9998.000000   999.000000       1.000000     1.000000   \n",
      "\n",
      "          store_id  inventory_level  reorder_point  reorder_quantity  \\\n",
      "count  5000.000000      5000.000000    5000.000000       5000.000000   \n",
      "mean     10.525000       253.121800      99.788000        200.517000   \n",
      "std       5.786888       142.885456      29.132387         58.257381   \n",
      "min       1.000000         0.000000      50.000000        100.000000   \n",
      "25%       5.000000       130.000000      75.000000        150.750000   \n",
      "50%      11.000000       253.000000     100.000000        200.500000   \n",
      "75%      16.000000       377.250000     125.000000        251.000000   \n",
      "max      20.000000       500.000000     150.000000        300.000000   \n",
      "\n",
      "       supplier_id  ...  promotion_applied  holiday_indicator  \\\n",
      "count   5000.00000  ...        5000.000000         5000.00000   \n",
      "mean     300.12560  ...           0.521400            0.49980   \n",
      "std      116.39486  ...           0.499592            0.50005   \n",
      "min      100.00000  ...           0.000000            0.00000   \n",
      "25%      199.00000  ...           0.000000            0.00000   \n",
      "50%      299.00000  ...           1.000000            0.00000   \n",
      "75%      405.00000  ...           1.000000            1.00000   \n",
      "max      500.00000  ...           1.000000            1.00000   \n",
      "\n",
      "       stockout_indicator  forecasted_demand  actual_demand  transaction_year  \\\n",
      "count         5000.000000        5000.000000    5000.000000            5000.0   \n",
      "mean             0.518600           0.492835       0.497830            2024.0   \n",
      "std              0.499704           0.288922       0.289716               0.0   \n",
      "min              0.000000           0.000000       0.000000            2024.0   \n",
      "25%              0.000000           0.237500       0.247619            2024.0   \n",
      "50%              1.000000           0.493750       0.497619            2024.0   \n",
      "75%              1.000000           0.737500       0.747619            2024.0   \n",
      "max              1.000000           1.000000       1.000000            2024.0   \n",
      "\n",
      "       transaction_month  transaction_day  transaction_hour  total_sales  \n",
      "count        5000.000000      5000.000000       5000.000000  5000.000000  \n",
      "mean            4.834600        15.252400         11.325000     0.301797  \n",
      "std             2.472421         8.704335          6.969095     0.238323  \n",
      "min             1.000000         1.000000          0.000000     0.000000  \n",
      "25%             3.000000         8.000000          5.000000     0.111708  \n",
      "50%             5.000000        15.000000         11.000000     0.234829  \n",
      "75%             7.000000        23.000000         17.000000     0.449698  \n",
      "max             9.000000        31.000000         23.000000     1.000000  \n",
      "\n",
      "[8 rows x 23 columns]\n"
     ]
    }
   ],
   "source": [
    "print(df.describe())"
   ]
  },
  {
   "cell_type": "code",
   "execution_count": 17,
   "id": "85b99216-c4ba-4430-bd3b-7a7fae5983b3",
   "metadata": {},
   "outputs": [
    {
     "data": {
      "image/png": "[encoded data removed]",
      "text/plain": [
       "<Figure size 600x400 with 1 Axes>"
      ]
     },
     "metadata": {},
     "output_type": "display_data"
    },
    {
     "data": {
      "image/png": "[encoded data removed]",
      "text/plain": [
       "<Figure size 600x400 with 1 Axes>"
      ]
     },
     "metadata": {},
     "output_type": "display_data"
    },
    {
     "data": {
      "image/png": "[encoded data removed]",
      "text/plain": [
       "<Figure size 600x400 with 1 Axes>"
      ]
     },
     "metadata": {},
     "output_type": "display_data"
    },
    {
     "data": {
      "image/png": "[encoded data removed]",
      "text/plain": [
       "<Figure size 600x400 with 1 Axes>"
      ]
     },
     "metadata": {},
     "output_type": "display_data"
    },
    {
     "data": {
      "image/png": "[encoded data removed]",
      "text/plain": [
       "<Figure size 600x400 with 1 Axes>"
      ]
     },
     "metadata": {},
     "output_type": "display_data"
    }
   ],
   "source": [
    "outlier_columns = ['unit_price', 'quantity_sold', 'customer_age', 'customer_income', 'actual_demand']\n",
    "import matplotlib.pyplot as plt\n",
    "import seaborn as sns\n",
    "\n",
    "for col in outlier_columns:\n",
    "    plt.figure(figsize=(6, 4))\n",
    "    sns.boxplot(x=df[col])\n",
    "    plt.title(f\"Boxplot for {col}\")\n",
    "    plt.show()"
   ]
  },
  {
   "cell_type": "markdown",
   "id": "e3cd8dc2-f938-49fd-966a-20bdf52f6c24",
   "metadata": {},
   "source": [
    "# Save the cleaned data"
   ]
  },
  {
   "cell_type": "code",
   "execution_count": 18,
   "id": "8125e66c-320f-4cfb-bdf0-807e844728d2",
   "metadata": {},
   "outputs": [],
   "source": [
    "\n",
    "cleaned_file_path = \"Walmart_Cleaned_Advanced3_modified.csv\"\n",
    "df.to_csv(cleaned_file_path, index=False)\n"
   ]
  },
  {
   "cell_type": "code",
   "execution_count": null,
   "id": "9a6c9c64-1d72-4522-9ddf-f7ec12905693",
   "metadata": {},
   "outputs": [],
   "source": []
  }
 ],
 "metadata": {
  "kernelspec": {
   "display_name": "Python 3 (ipykernel)",
   "language": "python",
   "name": "python3"
  },
  "language_info": {
   "codemirror_mode": {
    "name": "ipython",
    "version": 3
   },
   "file_extension": ".py",
   "mimetype": "text/x-python",
   "name": "python",
   "nbconvert_exporter": "python",
   "pygments_lexer": "ipython3",
   "version": "3.13.1"
  }
 },
 "nbformat": 4,
 "nbformat_minor": 5
}
